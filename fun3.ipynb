{
 "cells": [
  {
   "cell_type": "code",
   "execution_count": 2,
   "metadata": {},
   "outputs": [],
   "source": [
    "import pandas as pd\n",
    "import csv\n",
    "import networkx as nx\n",
    "import matplotlib.pyplot as plt\n",
    "from networkx.drawing.nx_pylab import *\n",
    "import itertools"
   ]
  },
  {
   "cell_type": "code",
   "execution_count": 3,
   "metadata": {},
   "outputs": [],
   "source": [
    "nodes = []\n",
    "\n",
    "with open('C:\\\\Users\\\\Giorgio\\\\Desktop\\\\hw5\\\\USA-road-d.CAL.co', 'r') as f,\\\n",
    "        open('C:\\\\Users\\\\Giorgio\\\\Desktop\\\\hw5\\\\USA-road-d.CAL.co.csv', 'w') as fo:\n",
    "    fow = csv.writer(fo)\n",
    "    for row in csv.reader(f):\n",
    "        if row[0][0] == 'v':\n",
    "            fow.writerow(row)\n",
    "            tmp = row[0].split()\n",
    "            nodes.append(int(tmp[1]))"
   ]
  },
  {
   "cell_type": "code",
   "execution_count": 4,
   "metadata": {},
   "outputs": [],
   "source": [
    "coord = pd.read_csv('C:\\\\Users\\\\Giorgio\\\\Desktop\\\\hw5\\\\USA-road-d.CAL.co.csv', sep=' ', delimiter=None, header=None)\n",
    "coord = coord.drop(coord.columns[0], axis=1)\n",
    "coord.columns = ['node', 'coord1', 'coord2']\n",
    "coord.set_index('node', inplace=True)"
   ]
  },
  {
   "cell_type": "code",
   "execution_count": 5,
   "metadata": {},
   "outputs": [],
   "source": [
    "def graphT(timeGraph):\n",
    "    with open('C:\\\\Users\\\\Giorgio\\\\Desktop\\\\hw5\\\\USA-road-t.CAL.gr', 'r') as f2:\n",
    "        for row in csv.reader(f2):\n",
    "            if row[0][0] == 'a':\n",
    "                # writer.writerow(row)\n",
    "                tmp = row[0].split()\n",
    "                p1 = int(coord.loc[int(tmp[1]), 'coord1'])\n",
    "                p2 = int(coord.loc[int(tmp[1]), 'coord2'])\n",
    "                pos = [p1, p2]\n",
    "                timeGraph.add_edge(int(tmp[1]), int(tmp[2]), weight=int(tmp[3]))\n",
    "                timeGraph.add_node(int(tmp[1]), p=pos) \n",
    "\n",
    "    return timeGraph"
   ]
  },
  {
   "cell_type": "code",
   "execution_count": 6,
   "metadata": {},
   "outputs": [],
   "source": [
    "def graphD(distanceGraph, baseGraph):\n",
    "    with open('C:\\\\Users\\\\Giorgio\\\\Desktop\\\\hw5\\\\USA-road-d.CAL.gr', 'r') as f1:\n",
    "        for row in csv.reader(f1):\n",
    "            if row[0][0] == 'a':\n",
    "                tmp = row[0].split()\n",
    "                p1 = int(coord.loc[int(tmp[1]), 'coord1'])\n",
    "                p2 = int(coord.loc[int(tmp[1]), 'coord2'])\n",
    "                pos = [p1, p2]\n",
    "                distanceGraph.add_node(int(tmp[1]), p=pos)\n",
    "                baseGraph.add_node(int(tmp[1]), p=pos)\n",
    "                distanceGraph.add_edge(int(tmp[1]), int(tmp[2]), weight=int(tmp[3]))\n",
    "                baseGraph.add_edge(int(tmp[1]), int(tmp[2]), weight=1)\n",
    "               \n",
    "    return distanceGraph, baseGraph"
   ]
  },
  {
   "cell_type": "code",
   "execution_count": 7,
   "metadata": {},
   "outputs": [],
   "source": [
    "distanceGraph = nx.Graph()\n",
    "baseGraph = nx.Graph()\n",
    "timeGraph = nx.Graph()\n",
    "distanceGraph,baseGraph=graphD(distanceGraph,baseGraph)\n",
    "timeGraph=graphT(timeGraph)"
   ]
  },
  {
   "cell_type": "code",
   "execution_count": 22,
   "metadata": {},
   "outputs": [],
   "source": [
    "def createPath(typec, nodes, arrList, min=None):\n",
    "    if min == None: min = float('Inf')\n",
    "    if typec == 't': graph = timeGraph\n",
    "    if typec == 'd': graph = distanceGraph\n",
    "    if typec == 'network': graph = baseGraph\n",
    "    res = []\n",
    "    x = 0\n",
    "    l = order(graph, nodes, arrList[0])\n",
    "    if l != ('Imp'):\n",
    "        x += l[0]\n",
    "        if x < min:\n",
    "            for i in l[1]:\n",
    "                res.append(i)\n",
    "        else:\n",
    "            return 'Over'\n",
    "    else:\n",
    "        res = [('Imp')]\n",
    "        return res\n",
    "    for n in range(len(arrList) - 1):\n",
    "        l = order(graph, arrList[n], arrList[n + 1])\n",
    "        if l != ('Imp'):\n",
    "            x += l[0]\n",
    "            if x < min:\n",
    "                for i in l[1][1:]:\n",
    "                    res.append(i)\n",
    "            else:\n",
    "                return 'Over'\n",
    "        else:\n",
    "            res = [('Imp')]\n",
    "            return res\n",
    "\n",
    "    return (res, x)"
   ]
  },
  {
   "cell_type": "code",
   "execution_count": 23,
   "metadata": {},
   "outputs": [],
   "source": [
    "def order(graph, nodes, dest):\n",
    "    if graph.has_node(nodes) == False or graph.has_node(dest) == False:\n",
    "        cb = ('Imp')\n",
    "        return cb\n",
    "    if nx.has_path(graph, nodes, dest):\n",
    "\n",
    "        prior = [-1] * (len(graph.nodes) + 1)\n",
    "        lisp = [float('Inf')] * (len(graph.nodes) + 1)\n",
    "        meet = set()\n",
    "        lisp[nodes] = 0\n",
    "        prior[nodes] = nodes\n",
    "        l = [item for item in lisp]\n",
    "        while (dest not in meet):\n",
    "            actualNode = l.index(min(l))\n",
    "            meet.add(actualNode)\n",
    "            l[actualNode] = float('Inf')\n",
    "            for v in graph.adj[actualNode]:\n",
    "                if lisp[v] > lisp[actualNode] + graph[actualNode][v]['weight']:\n",
    "                    lisp[v] = lisp[actualNode] + graph[actualNode][v]['weight']\n",
    "                    l[v] = lisp[actualNode] + graph[actualNode][v]['weight']\n",
    "                    prior[v] = actualNode\n",
    "        path = []\n",
    "        index = dest\n",
    "        nodes = prior[index]\n",
    "        while index != nodes:\n",
    "            path.append(index)\n",
    "            index = nodes\n",
    "            nodes = prior[index]\n",
    "        path.append(nodes)\n",
    "        res = (lisp[dest], path[::-1])\n",
    "    else:\n",
    "        res = ('Imp')\n",
    "    return res"
   ]
  },
  {
   "cell_type": "code",
   "execution_count": 24,
   "metadata": {},
   "outputs": [],
   "source": [
    "def visualize(graph):\n",
    "    g_vis = baseGraph.subgraph(graph)\n",
    "    pos = nx.get_node_attributes(g_vis, 'p')\n",
    "    dist_color = 'red'\n",
    "    draw_networkx(g_vis, pos, with_labels=False, node_size=10, node_color='b', width=2, edge_color=dist_color)\n",
    "    nx.draw_networkx_nodes(g_vis, pos, nodelist=[1], node_color='b', node_size=100)\n",
    "    plt.show()"
   ]
  },
  {
   "cell_type": "code",
   "execution_count": 25,
   "metadata": {},
   "outputs": [],
   "source": [
    "def main():\n",
    "    #list= choose the list of node to visit the format will be: list= [n,n,n,n]\n",
    "    listc=[1048577, 1690, 1692, 1694, 1048937,1715]\n",
    "    #type = choose between time, network or distance\n",
    "    typec='network'\n",
    "    #s= choose the first node\n",
    "    s=1\n",
    "    f3=createPath(typec,s, listc)[0]\n",
    "    visualize(f3)"
   ]
  },
  {
   "cell_type": "code",
   "execution_count": 26,
   "metadata": {},
   "outputs": [
    {
     "name": "stderr",
     "output_type": "stream",
     "text": [
      "C:\\Users\\Giorgio\\Anaconda3\\lib\\site-packages\\networkx\\drawing\\nx_pylab.py:579: MatplotlibDeprecationWarning: \n",
      "The iterable function was deprecated in Matplotlib 3.1 and will be removed in 3.3. Use np.iterable instead.\n",
      "  if not cb.iterable(width):\n"
     ]
    },
    {
     "data": {
      "image/png": "[encoded data removed]",
      "text/plain": [
       "<Figure size 432x288 with 1 Axes>"
      ]
     },
     "metadata": {},
     "output_type": "display_data"
    }
   ],
   "source": [
    "main()"
   ]
  }
 ],
 "metadata": {
  "kernelspec": {
   "display_name": "Python 3",
   "language": "python",
   "name": "python3"
  },
  "language_info": {
   "codemirror_mode": {
    "name": "ipython",
    "version": 3
   },
   "file_extension": ".py",
   "mimetype": "text/x-python",
   "name": "python",
   "nbconvert_exporter": "python",
   "pygments_lexer": "ipython3",
   "version": "3.7.4"
  }
 },
 "nbformat": 4,
 "nbformat_minor": 2
}
